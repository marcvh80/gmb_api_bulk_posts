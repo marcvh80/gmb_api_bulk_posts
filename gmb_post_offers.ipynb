{
  "nbformat": 4,
  "nbformat_minor": 0,
  "metadata": {
    "colab": {
      "name": "gmb_post_offers.ipynb",
      "provenance": []
    },
    "kernelspec": {
      "name": "python3",
      "display_name": "Python 3"
    },
    "language_info": {
      "name": "python"
    }
  },
  "cells": [
    {
      "cell_type": "code",
      "metadata": {
        "id": "5K5c64nAwwHQ"
      },
      "source": [
        "# Library stuff\n",
        "import pickle\n",
        "import os\n",
        "from google_auth_oauthlib.flow import InstalledAppFlow\n",
        "from googleapiclient.discovery import build\n",
        "from google.auth.transport.requests import Request\n",
        "import requests\n",
        "import pandas as pd"
      ],
      "execution_count": null,
      "outputs": []
    },
    {
      "cell_type": "code",
      "metadata": {
        "id": "b0fYsuCAw3_W"
      },
      "source": [
        "# Psssssst.. secret stuff\n",
        "CLIENT_SECRET_FILE = 'client_secret.json'\n",
        "API_SERVICE_NAME = 'mybusiness'\n",
        "API_VERSION = 'v4'\n",
        "SCOPES = ['https://www.googleapis.com/auth/business.manage']\n"
      ],
      "execution_count": null,
      "outputs": []
    },
    {
      "cell_type": "code",
      "metadata": {
        "id": "ZJCdalCWw8GN"
      },
      "source": [
        "# Input for the parameters\n",
        "LANGUAGE = \"nl-NL\"\n",
        "SUMMARY = input(\"\\nWhat is the text summary of the post?\\n\\n\")\n",
        "ACTION = input(\"\\nType: 'LEARN_MORE' or 'ORDER':\\n\\n\")\n",
        "URL = input(\"\\nWhat is the landing page of the post?\\n\\n\")\n",
        "PHOTO = input(\"\\nWhat is the url of the image you would like to include?\\n\\n\")"
      ],
      "execution_count": null,
      "outputs": []
    },
    {
      "cell_type": "code",
      "metadata": {
        "id": "ntExn_dTw-mh"
      },
      "source": [
        "# Load, refresh of create token.pickle\n",
        "if os.path.exists('token.pickle'):\n",
        "    with open('token.pickle', 'rb') as token:\n",
        "        cred = pickle.load(token)\n",
        "if not cred or not cred.valid:\n",
        "    if cred and cred.expired and cred.refresh_token:\n",
        "        cred.refresh(Request())\n",
        "    else:\n",
        "        flow = InstalledAppFlow.from_client_secrets_file(CLIENT_SECRET_FILE, SCOPES)\n",
        "        cred = flow.run_local_server()\n",
        "    with open('token.pickle', 'wb') as token:\n",
        "        pickle.dump(cred, token)\n",
        "try:\n",
        "    service = build(API_SERVICE_NAME, API_VERSION, credentials=cred)\n",
        "    print('Service created succesfully')\n",
        "    print(service)\n",
        "except Exception as e:\n",
        "    print(e)\n",
        "\n",
        "BEARER = cred.token"
      ],
      "execution_count": null,
      "outputs": []
    },
    {
      "cell_type": "code",
      "metadata": {
        "id": "GOj3Y9w9tmfo"
      },
      "source": [
        "# Gather location info\n",
        "response = requests.get(\"https://mybusinessaccountmanagement.googleapis.com/v4/accounts\", headers={\"Authorization\": f\"Bearer {BEARER}\"})\n",
        "print(response.status_code)\n",
        "accounts = response.json()\n",
        "print(accounts)"
      ],
      "execution_count": null,
      "outputs": []
    },
    {
      "cell_type": "code",
      "metadata": {
        "id": "Ak-gBI8_xAAi"
      },
      "source": [
        "# Gather all locations \n",
        "response = requests.get(\"https://mybusinessaccountmanagement.googleapis.com/v4/accounts/{YOUR_LOCATION_ID_YOU_JUST_COPIED}/locations\", headers={\"Authorization\": f\"Bearer {BEARER}\"})\n",
        "print(response.status_code)\n",
        "locations = response.json()\n",
        "# print(locations) "
      ],
      "execution_count": null,
      "outputs": []
    },
    {
      "cell_type": "code",
      "metadata": {
        "id": "ZZetgJ_UxRX-"
      },
      "source": [
        "# Find all location IDs\n",
        "shops = [i[\"name\"] for i in locations[\"locations\"]]\n",
        "# print(shops)"
      ],
      "execution_count": null,
      "outputs": []
    },
    {
      "cell_type": "code",
      "metadata": {
        "id": "PWLfsi8sxUAf",
        "colab": {
          "base_uri": "https://localhost:8080/"
        },
        "outputId": "75b65882-86c1-4402-f178-ede4cd9cedfa"
      },
      "source": [
        "# Get the parameters in place\n",
        "params = {\n",
        "  \"languageCode\": LANGUAGE,\n",
        "  \"title\": TITLE,\n",
        "  \"summary\": SUMMARY,\n",
        "  \"callToAction\": {\n",
        "    \"actionType\": ACTION,\n",
        "    \"url\": URL + \"?utm_source=gmb&utm_medium=organic\"\n",
        "  },\n",
        "  \"media\": [\n",
        "    {\n",
        "      \"mediaFormat\": \"PHOTO\",\n",
        "      \"sourceUrl\": PHOTO,\n",
        "    }\n",
        "  ],\n",
        "}\n",
        "\n",
        "print(params)"
      ],
      "execution_count": null,
      "outputs": [
        {
          "output_type": "stream",
          "text": [
            "{'languageCode': 'nl-NL', 'summary': '142', 'callToAction': {'actionType': 'update', 'url': 'gwe?utm_source=gmb&utm_medium=organic'}, 'media': [{'mediaFormat': 'PHOTO', 'sourceUrl': '2'}]}\n"
          ],
          "name": "stdout"
        }
      ]
    },
    {
      "cell_type": "code",
      "metadata": {
        "id": "T4YHhdLoxWhX"
      },
      "source": [
        "for shop in shops:\n",
        "    url = f\"https://mybusiness.googleapis.com/v4/{shop}/localPosts\"\n",
        "    make_post = requests.post(url, json=params, headers={\"Authorization\": f\"Bearer {BEARER}\"})\n",
        "    # print(make_post.status_code)"
      ],
      "execution_count": null,
      "outputs": []
    }
  ]
}
